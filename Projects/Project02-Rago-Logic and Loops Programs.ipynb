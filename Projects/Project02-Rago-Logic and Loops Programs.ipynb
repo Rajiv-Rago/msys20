{
 "cells": [
  {
   "cell_type": "markdown",
   "id": "5b3fb1d0",
   "metadata": {},
   "source": [
    "Rajiv D. Rago\n",
    "\n",
    "204178\n",
    "\n",
    "September 20, 2021"
   ]
  },
  {
   "cell_type": "code",
   "execution_count": 1,
   "id": "0eaa6dc9",
   "metadata": {},
   "outputs": [
    {
     "name": "stdout",
     "output_type": "stream",
     "text": [
      "Days: 2\n",
      "Hours: 3\n",
      "Minutes: 4\n",
      "Seconds: 6\n",
      "02:03:04:06\n"
     ]
    }
   ],
   "source": [
    "# Problem A: Current Time, revised\n",
    "\n",
    "import math\n",
    "\n",
    "days = int(input(\"Days: \"))\n",
    "hours = int(input(\"Hours: \"))\n",
    "minutes = int(input(\"Minutes: \"))\n",
    "seconds = int(input(\"Seconds: \"))\n",
    "\n",
    "print(\"{:0>2d}:{:0>2d}:{:0>2d}:{:0>2d}\".format(days, hours, minutes, seconds))"
   ]
  },
  {
   "cell_type": "code",
   "execution_count": 5,
   "id": "34331f8e",
   "metadata": {},
   "outputs": [
    {
     "name": "stdout",
     "output_type": "stream",
     "text": [
      "Cents: 68\n",
      "1-peso coins: 0\n",
      "25-cent coins: 2\n",
      "10-cent coins: 1\n",
      "5-cent coins: 1\n",
      "1-cent coins: 3\n"
     ]
    }
   ],
   "source": [
    "# Problem B: Making Change\n",
    "\n",
    "import math\n",
    "\n",
    "cents = int(input(\"Cents: \"))\n",
    "\n",
    "dividers = [100, 25, 10, 5, 1]\n",
    "\n",
    "for coin in dividers:\n",
    "    change = math.floor(cents / coin)\n",
    "    \n",
    "    if coin == 100:\n",
    "        print(\"1-peso coins: \" + str(change))\n",
    "    else:\n",
    "        print(str(coin) + \"-cent coins: \" + str(change))\n",
    "    \n",
    "    cents = cents % coin"
   ]
  },
  {
   "cell_type": "code",
   "execution_count": 2,
   "id": "a9286f51",
   "metadata": {},
   "outputs": [
    {
     "name": "stdout",
     "output_type": "stream",
     "text": [
      "Height: 4\n",
      "1\n",
      "12\n",
      "123\n",
      "1234\n",
      "\n",
      "Height: s\n",
      "Please input an integer.\n",
      "\n",
      "Height: -9\n"
     ]
    }
   ],
   "source": [
    "# Problem C: Pyramid Scheme\n",
    "\n",
    "while True:\n",
    "    # Source: obtained from: <https://www.w3schools.com/python/python_try_except.asp>\n",
    "    # Date: <September 20, 2021>\n",
    "    # Name of Author/Programmer: W3Schools\n",
    "    try:\n",
    "        height = int(input(\"Height: \"))\n",
    "\n",
    "        while height >= 0:\n",
    "            x = 1\n",
    "            while x <= height:\n",
    "                y = 1\n",
    "                line = \"\"\n",
    "                while y <= x:\n",
    "                    line = line + str(y)\n",
    "                    y = y + 1\n",
    "                print(line)\n",
    "                x = x + 1    \n",
    "            height = int(input(\"\\nHeight: \"))\n",
    "        break\n",
    "    except:\n",
    "        print(\"Please input an integer.\\n\")"
   ]
  },
  {
   "cell_type": "code",
   "execution_count": 32,
   "id": "c21952ae",
   "metadata": {},
   "outputs": [
    {
     "name": "stdout",
     "output_type": "stream",
     "text": [
      "Enter string: tragedy hotdog update tear census coffin\n",
      "agedytray\n",
      "otdoghay\n",
      "updateway\n",
      "eartay\n",
      "ensuscay\n",
      "offincay\n"
     ]
    }
   ],
   "source": [
    "# Problem D: Oinkway\n",
    "\n",
    "words = input(\"Enter string: \")\n",
    "\n",
    "words = words.split()\n",
    "vowels = tuple(\"aeiou\")\n",
    "\n",
    "has_vowel = False\n",
    "piglat = \"\"\n",
    "punctuation = \"\"\n",
    "has_way = True\n",
    "\n",
    "for word in words:\n",
    "    \n",
    "    # Source: obtained from: <https://www.w3schools.com/python/ref_string_isalnum.asp>\n",
    "    # Date: <September 20, 2021>\n",
    "    # Name of Author/Programmer: W3Schools\n",
    "    while not(word[-1].isalnum()):\n",
    "        punctuation = punctuation + word[-1]\n",
    "        word = word[0:-1]\n",
    "        \n",
    "    while not(has_vowel):\n",
    "        for vowel in vowels:\n",
    "            \n",
    "            if word[0] == vowel:\n",
    "                has_vowel = True\n",
    "                \n",
    "                if has_way:\n",
    "                    piglat = word + \"way\"\n",
    "                    \n",
    "                else:\n",
    "                    piglat = word + \"ay\"\n",
    "                    has_way = True\n",
    "                \n",
    "                if len(punctuation) != 0:\n",
    "                    piglat = piglat + punctuation\n",
    "                    punctuation = \"\"\n",
    "                break\n",
    "                \n",
    "        if not(has_vowel):\n",
    "            word = word[1:] + word[0]\n",
    "            has_way = False\n",
    "    \n",
    "    has_vowel = False\n",
    "    print(piglat)"
   ]
  },
  {
   "cell_type": "code",
   "execution_count": 13,
   "id": "f13efabc",
   "metadata": {},
   "outputs": [
    {
     "name": "stdout",
     "output_type": "stream",
     "text": [
      "Enter string: rats(?) live on no evil! star\n",
      "Is it a palindrome? True\n"
     ]
    }
   ],
   "source": [
    "# Problem E: String palindromes, revised\n",
    "\n",
    "import string\n",
    "\n",
    "phrase = input(\"Enter string: \")\n",
    "\n",
    "# Source: Obtained from:<https://careerkarma.com/blog/python-remove-punctuation/>\n",
    "# Date: <September 20, 2021>\n",
    "# Name of Author/Programmer: James Gallagher\n",
    "phrase = phrase.translate(str.maketrans('', '', string.punctuation))\n",
    "phrase = phrase.lower().replace(\" \", \"\")\n",
    "\n",
    "mid = int(len(phrase) / 2)\n",
    "\n",
    "half1 = phrase[0:mid]\n",
    "half2 = phrase[-mid:]\n",
    "\n",
    "half2_list = list(half2)\n",
    "half2_list.reverse()\n",
    "\n",
    "half2_reverse = \"\"\n",
    "\n",
    "for letter in half2_list:\n",
    "    half2_reverse = half2_reverse + letter\n",
    "\n",
    "print(\"Is it a palindrome? \" + str(half1 == half2_reverse))"
   ]
  }
 ],
 "metadata": {
  "kernelspec": {
   "display_name": "Python 3",
   "language": "python",
   "name": "python3"
  },
  "language_info": {
   "codemirror_mode": {
    "name": "ipython",
    "version": 3
   },
   "file_extension": ".py",
   "mimetype": "text/x-python",
   "name": "python",
   "nbconvert_exporter": "python",
   "pygments_lexer": "ipython3",
   "version": "3.8.8"
  }
 },
 "nbformat": 4,
 "nbformat_minor": 5
}
