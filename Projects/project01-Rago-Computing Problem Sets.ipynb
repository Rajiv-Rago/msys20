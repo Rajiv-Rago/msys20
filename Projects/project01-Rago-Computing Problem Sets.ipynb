{
 "cells": [
  {
   "cell_type": "markdown",
   "id": "d2f5374d",
   "metadata": {},
   "source": [
    "Rajiv D. Rago\n",
    "\n",
    "204178\n",
    "\n",
    "September 3, 2021"
   ]
  },
  {
   "cell_type": "code",
   "execution_count": 1,
   "id": "dedd7181",
   "metadata": {},
   "outputs": [
    {
     "name": "stdout",
     "output_type": "stream",
     "text": [
      "Input Integer: 100\n",
      "\n",
      "\n",
      "Sum = 5050\n"
     ]
    }
   ],
   "source": [
    "# Problem A: Sum of the First N Positive Integers\n",
    "\n",
    "n = int(input(\"Input Integer: \"))\n",
    "\n",
    "ans = round((n * (n + 1)) / 2)\n",
    "\n",
    "print(\"\\n\")\n",
    "print(\"Sum = \" + str(ans))"
   ]
  },
  {
   "cell_type": "code",
   "execution_count": 30,
   "id": "95fc25b6",
   "metadata": {},
   "outputs": [
    {
     "name": "stdout",
     "output_type": "stream",
     "text": [
      "A = 3\n",
      "B = 4\n",
      "\n",
      "\n",
      "C = 5.0\n"
     ]
    }
   ],
   "source": [
    "# Problem B: Hypotenuse\n",
    "\n",
    "import math\n",
    "\n",
    "A = float(input(\"A = \"))\n",
    "B = float(input(\"B = \"))\n",
    "C = math.sqrt(A**2 + B**2)\n",
    "\n",
    "print(\"\\n\")\n",
    "print(\"C = \" + str(C))"
   ]
  },
  {
   "cell_type": "code",
   "execution_count": 35,
   "id": "86a08a1a",
   "metadata": {},
   "outputs": [
    {
     "name": "stdout",
     "output_type": "stream",
     "text": [
      "9\n",
      "4\n",
      "6\n",
      "\n",
      "\n",
      "1st: 4\n",
      "2nd: 6\n",
      "3rd: 9\n"
     ]
    }
   ],
   "source": [
    "# Problem C: Sort 3 Integers\n",
    "\n",
    "num1 = int(input())\n",
    "num2 = int(input())\n",
    "num3 = int(input())\n",
    "\n",
    "smallest = min(num1, num2, num3)\n",
    "largest = max(num1, num2, num3)\n",
    "\n",
    "print(\"\\n\")\n",
    "print(\"1st: \" + str(smallest))\n",
    "print(\"2nd: \" + str(num1 + num2 + num3 - smallest - largest))\n",
    "print(\"3rd: \" + str(largest))"
   ]
  },
  {
   "cell_type": "code",
   "execution_count": 48,
   "id": "64319551",
   "metadata": {},
   "outputs": [
    {
     "name": "stdout",
     "output_type": "stream",
     "text": [
      "S: 4\n",
      "N: 5\n",
      "\n",
      "\n",
      "Area = 27.53\n"
     ]
    }
   ],
   "source": [
    "# Problem D: Area of a Regular Polygon\n",
    "\n",
    "import math\n",
    "\n",
    "side_length = int(input(\"S: \"))\n",
    "side_num = int(input(\"N: \"))\n",
    "\n",
    "ans = (side_num * (side_length**2)) / (4 * math.tan( math.pi / side_num))\n",
    "\n",
    "print(\"\\n\")\n",
    "print(\"Area = \" + str(round(ans, 2)))\n"
   ]
  },
  {
   "cell_type": "code",
   "execution_count": 1,
   "id": "a636450c",
   "metadata": {},
   "outputs": [
    {
     "name": "stdout",
     "output_type": "stream",
     "text": [
      "m (grams): 1000\n",
      "Change in T (Celsius): 75\n",
      "\n",
      "\n",
      "q: 313950.0 Joules\n",
      "Cost: Php 0.74\n"
     ]
    }
   ],
   "source": [
    "# Problem E: Heat Capacity\n",
    "\n",
    "mass = float(input(\"m (grams): \"))\n",
    "delta_t = float(input(\"Change in T (Celsius): \"))\n",
    "q = round(4.186 * mass * delta_t, 2)\n",
    "\n",
    "print(\"\\n\")\n",
    "print(\"q: \" + str(q) + \" Joules\")\n",
    "\n",
    "#Source: obtained from: <https://www.rapidtables.com/convert/energy/Joule_to_kWh.html>\n",
    "#Date: <September 3, 2021>\n",
    "#Name of Author/Programmer: RapidTables\n",
    "\n",
    "print(\"Cost: Php \" + str(round(8.49 * (q / 3600000), 2)))"
   ]
  }
 ],
 "metadata": {
  "kernelspec": {
   "display_name": "Python 3",
   "language": "python",
   "name": "python3"
  },
  "language_info": {
   "codemirror_mode": {
    "name": "ipython",
    "version": 3
   },
   "file_extension": ".py",
   "mimetype": "text/x-python",
   "name": "python",
   "nbconvert_exporter": "python",
   "pygments_lexer": "ipython3",
   "version": "3.8.8"
  }
 },
 "nbformat": 4,
 "nbformat_minor": 5
}
