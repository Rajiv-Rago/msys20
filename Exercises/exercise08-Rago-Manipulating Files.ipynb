{
 "cells": [
  {
   "cell_type": "markdown",
   "id": "a266864e",
   "metadata": {},
   "source": [
    "Rajiv D. Rago\n",
    "\n",
    "204178\n",
    "\n",
    "November 11, 2021"
   ]
  },
  {
   "cell_type": "code",
   "execution_count": 10,
   "id": "c43cc8c6",
   "metadata": {},
   "outputs": [
    {
     "name": "stdout",
     "output_type": "stream",
     "text": [
      "Input file location: C:\\Users\\Study\\Documents\\Python Scripts\\Outputs\\input_file.txt\n",
      "Output file location: idk\\something.txt\n",
      "Successfully numbered the lines of the file\n"
     ]
    }
   ],
   "source": [
    "#Problem A: Numbering Lines\n",
    "try:\n",
    "    input_file = open(input(\"Input file location: \"), \"r\")\n",
    "    output_file = open(input(\"Output file location: \"), \"w\")\n",
    "    \n",
    "    lines = input_file.read().split(\"\\n\")\n",
    "    \n",
    "    for line in lines:\n",
    "        output_file.write(\"{}, \".format(lines.index(line) + 1) + line + \"\\n\")\n",
    "    \n",
    "    print(\"Successfully numbered the lines of the file\")\n",
    "    \n",
    "except:\n",
    "    print(\"Something went wrong.\")\n",
    "    \n",
    "finally:\n",
    "    input_file.close()\n",
    "    output_file.close()"
   ]
  },
  {
   "cell_type": "code",
   "execution_count": 7,
   "id": "822d0d82",
   "metadata": {},
   "outputs": [
    {
     "name": "stdout",
     "output_type": "stream",
     "text": [
      "Input file location: yelp.csv\n",
      "Output file location: idk/yelp.txt\n"
     ]
    }
   ],
   "source": [
    "#Problem B: Converting Files\n",
    "\n",
    "try:\n",
    "    yelpCsv = open(input(\"Input file location: \"), \"r\")\n",
    "    yelpTxt = open(input(\"Output file location: \"), \"w\")\n",
    "    \n",
    "    tempList = yelpCsv.read().split(\",\") \n",
    "    output = \"\"\n",
    "    inQuotes = False\n",
    "    \n",
    "    for x in tempList:\n",
    "        \n",
    "        if inQuotes:\n",
    "            output += \",\" + x\n",
    "            if x[-1:] == \"\\\"\" and x[-2:] != \"\\\"\\\"\": \n",
    "                inQuotes = False\n",
    "                \n",
    "        else:\n",
    "            output = output + \"|\" + x\n",
    "            if x[0] == \"\\\"\":\n",
    "                inQuotes = True\n",
    "    \n",
    "    yelpTxt.writelines(output)\n",
    "    \n",
    "    print(\"Successfully converted the file from CSV to TXT\")\n",
    "    \n",
    "except:\n",
    "    print(\"something went wrong\")\n",
    "\n",
    "finally:\n",
    "    yelpCsv.close()\n",
    "    yelpTxt.close()"
   ]
  }
 ],
 "metadata": {
  "kernelspec": {
   "display_name": "Python 3",
   "language": "python",
   "name": "python3"
  },
  "language_info": {
   "codemirror_mode": {
    "name": "ipython",
    "version": 3
   },
   "file_extension": ".py",
   "mimetype": "text/x-python",
   "name": "python",
   "nbconvert_exporter": "python",
   "pygments_lexer": "ipython3",
   "version": "3.8.8"
  }
 },
 "nbformat": 4,
 "nbformat_minor": 5
}
