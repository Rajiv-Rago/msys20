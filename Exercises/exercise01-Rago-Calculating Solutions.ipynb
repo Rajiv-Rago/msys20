{
 "cells": [
  {
   "cell_type": "markdown",
   "id": "a7e66380",
   "metadata": {},
   "source": [
    "Rajiv D. Rago\n",
    "\n",
    "204178\n",
    "\n",
    "September 3, 2021"
   ]
  },
  {
   "cell_type": "code",
   "execution_count": 20,
   "id": "a92d6146",
   "metadata": {},
   "outputs": [
    {
     "name": "stdout",
     "output_type": "stream",
     "text": [
      "Input A: 5\n",
      "Input B: 4\n",
      "Input C: 3\n",
      "Input D: 3\n",
      "\n",
      "\n",
      "A = B? False\n",
      "C = D? True\n",
      "A = B and C = D? False\n",
      "A = B or C = D? True\n"
     ]
    }
   ],
   "source": [
    "# Problem A: Equalities\n",
    "\n",
    "A = float(input(\"Input A: \"))\n",
    "B = float(input(\"Input B: \"))\n",
    "C = float(input(\"Input C: \"))\n",
    "D = float(input(\"Input D: \"))\n",
    "\n",
    "print(\"\\n\")\n",
    "print(\"A = B? \" + str(A == B))\n",
    "print(\"C = D? \" + str(C == D))\n",
    "print(\"A = B and C = D? \" + str(A == B and C == D))\n",
    "print(\"A = B or C = D? \" + str(A == B or C == D))"
   ]
  },
  {
   "cell_type": "code",
   "execution_count": 24,
   "id": "52eb708f",
   "metadata": {},
   "outputs": [
    {
     "name": "stdout",
     "output_type": "stream",
     "text": [
      "Input Amount Deposited: 100000\n",
      "\n",
      "\n",
      "After 1 year: 104000.00\n",
      "After 2 years: 108160.00\n",
      "After 3 years: 112486.40\n"
     ]
    }
   ],
   "source": [
    "# Problem B: Compound Interest\n",
    "\n",
    "amount = float(input(\"Input Amount Deposited: \"))\n",
    "interest = 1.04\n",
    "\n",
    "\n",
    "year1 = amount * interest\n",
    "year2 = amount * interest ** 2\n",
    "year3 = amount * interest ** 3\n",
    "\n",
    "print(\"\\n\")\n",
    "\n",
    "#Source: obtained from: https://www.w3schools.com/python/ref_string_format.asp\n",
    "#Date: September 3, 2021\n",
    "#Name of Author/Programmer: W3Schools\n",
    "\n",
    "print(\"After 1 year: {:.2f}\".format(year1))\n",
    "print(\"After 2 years: {:.2f}\".format(year2))\n",
    "print(\"After 3 years: {:.2f}\".format(year3))\n"
   ]
  },
  {
   "cell_type": "code",
   "execution_count": 14,
   "id": "b504305a",
   "metadata": {},
   "outputs": [
    {
     "name": "stdout",
     "output_type": "stream",
     "text": [
      "Days: 1\n",
      "Hours: 1\n",
      "Minutes: 1\n",
      "Seconds: 1\n",
      "\n",
      "\n",
      "90061\n"
     ]
    }
   ],
   "source": [
    "# Problem C: Current Time\n",
    "days = int(input(\"Days: \"))\n",
    "hours = int(input(\"Hours: \"))\n",
    "minutes = int(input(\"Minutes: \"))\n",
    "seconds = int(input(\"Seconds: \"))\n",
    "\n",
    "print(\"\\n\")\n",
    "print(86400 * days + 3600 * hours + 60 * minutes + seconds)"
   ]
  }
 ],
 "metadata": {
  "kernelspec": {
   "display_name": "Python 3",
   "language": "python",
   "name": "python3"
  },
  "language_info": {
   "codemirror_mode": {
    "name": "ipython",
    "version": 3
   },
   "file_extension": ".py",
   "mimetype": "text/x-python",
   "name": "python",
   "nbconvert_exporter": "python",
   "pygments_lexer": "ipython3",
   "version": "3.8.8"
  }
 },
 "nbformat": 4,
 "nbformat_minor": 5
}
