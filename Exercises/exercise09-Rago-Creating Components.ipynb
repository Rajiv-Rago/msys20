{
 "cells": [
  {
   "cell_type": "markdown",
   "id": "f57ce9ba",
   "metadata": {},
   "source": [
    "Rajiv D. Rago\n",
    "\n",
    "204178\n",
    "\n",
    "November 28, 2021"
   ]
  },
  {
   "cell_type": "code",
   "execution_count": 25,
   "id": "6c280925",
   "metadata": {},
   "outputs": [],
   "source": [
    "# Problem: BMI Calculator\n",
    "\n",
    "from tkinter import *\n",
    "\n",
    "def calculateBMI():\n",
    "    try:\n",
    "        feet = int(height_input1.get())\n",
    "        inches = int(height_input2.get())\n",
    "        kilograms = int(weight_input.get())\n",
    "\n",
    "        height = ((feet * 12) + inches) * 0.0254\n",
    "\n",
    "        bmi_output.configure(text = \"{:.2f}\".format(kilograms / (height ** 2)))\n",
    "    except:\n",
    "        bmi_output.configure(text = \"Invalid input\")\n",
    "\n",
    "window = Tk()\n",
    "\n",
    "window.title(\"BMI Calculator\")\n",
    "window.geometry()\n",
    "\n",
    "height_text = Label(window, text = \"Height\")\n",
    "height_text.grid(row = 0, column = 0)\n",
    "\n",
    "height_input1 = Entry(window)\n",
    "height_input1.grid(row = 0, column = 1)\n",
    "\n",
    "feet_text = Label(window, text = \"feet\")\n",
    "feet_text.grid(row = 0, column = 2)\n",
    "\n",
    "height_input2 = Entry(window)\n",
    "height_input2.grid(row = 0, column = 3)\n",
    "\n",
    "inches_text = Label(window, text = \"inches\")\n",
    "inches_text.grid(row = 0, column = 4)\n",
    "\n",
    "weight_text = Label(window, text = \"Weight\")\n",
    "weight_text.grid(row = 1, column = 0)\n",
    "\n",
    "weight_input = Entry(window)\n",
    "weight_input.grid(row = 1, column = 1)\n",
    "\n",
    "kilogram_text = Label(window, text = \"kilograms\")\n",
    "kilogram_text.grid(row = 1, column = 2)\n",
    "\n",
    "bmi_text = Label(window, text = \"BMI: \")\n",
    "bmi_text.grid(row = 2, column = 0)\n",
    "\n",
    "bmi_output = Label(window)\n",
    "bmi_output.grid(row = 2, column = 1)\n",
    "\n",
    "calculate = Button(window, text = \"Calculate BMI\", command = calculateBMI)\n",
    "calculate.grid(row = 3, column = 0)\n",
    "\n",
    "window.mainloop()"
   ]
  }
 ],
 "metadata": {
  "kernelspec": {
   "display_name": "Python 3",
   "language": "python",
   "name": "python3"
  },
  "language_info": {
   "codemirror_mode": {
    "name": "ipython",
    "version": 3
   },
   "file_extension": ".py",
   "mimetype": "text/x-python",
   "name": "python",
   "nbconvert_exporter": "python",
   "pygments_lexer": "ipython3",
   "version": "3.8.8"
  }
 },
 "nbformat": 4,
 "nbformat_minor": 5
}
