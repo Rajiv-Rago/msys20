{
 "cells": [
  {
   "cell_type": "markdown",
   "id": "136334b7",
   "metadata": {},
   "source": [
    "Rajiv D. Rago\n",
    "\n",
    "294178\n",
    "\n",
    "September 17, 2021"
   ]
  },
  {
   "cell_type": "code",
   "execution_count": 32,
   "id": "ad0e99ad",
   "metadata": {},
   "outputs": [
    {
     "name": "stdout",
     "output_type": "stream",
     "text": [
      "Human Years: 4.5\n",
      "Dog Years: 31.0\n"
     ]
    }
   ],
   "source": [
    "# Problem A: Dog Years\n",
    "\n",
    "human_years = float(input(\"Human Years: \"))\n",
    "\n",
    "if human_years <= 2:\n",
    "    print(\"Dog Years: \" + str(human_years * 10.5))\n",
    "else:\n",
    "    print(\"Dog Years: \" + str(13 + (human_years * 4)))"
   ]
  },
  {
   "cell_type": "code",
   "execution_count": 29,
   "id": "1258b407",
   "metadata": {},
   "outputs": [
    {
     "name": "stdout",
     "output_type": "stream",
     "text": [
      "Age: 38\n",
      "Age: 39\n",
      "Age: 1\n",
      "Age: 66\n",
      "Age: 7\n",
      "Age: -1\n",
      "\n",
      "Total Cost: PHP 3900.00\n"
     ]
    }
   ],
   "source": [
    "# Problem B: Admission Price\n",
    "\n",
    "age = int(input(\"Age: \"))\n",
    "cost = 0\n",
    "\n",
    "while age >= 0:\n",
    "    if age >= 3 and age <= 12:\n",
    "        cost = cost + 700\n",
    "    elif age >= 13 and age <= 64:\n",
    "        cost = cost + 1150\n",
    "    elif age >= 65:\n",
    "        cost = cost + 900\n",
    "    \n",
    "    age = int(input(\"Age: \"))\n",
    "    \n",
    "print(\"\\nTotal Cost: PHP {:.2f}\".format(cost))"
   ]
  },
  {
   "cell_type": "code",
   "execution_count": 27,
   "id": "75c69e6f",
   "metadata": {},
   "outputs": [
    {
     "name": "stdout",
     "output_type": "stream",
     "text": [
      "N: 42\n",
      "M: 18\n",
      "GDC: 6\n"
     ]
    }
   ],
   "source": [
    "# Problem C: Greatest Common Divisor\n",
    "\n",
    "n = int(input(\"N: \"))\n",
    "m = int(input(\"M: \"))\n",
    "\n",
    "d = min(n, m)\n",
    "\n",
    "while n % d != 0 or m % d != 0:\n",
    "    d = d - 1\n",
    "\n",
    "print(\"GDC: \" + str(d))"
   ]
  }
 ],
 "metadata": {
  "kernelspec": {
   "display_name": "Python 3",
   "language": "python",
   "name": "python3"
  },
  "language_info": {
   "codemirror_mode": {
    "name": "ipython",
    "version": 3
   },
   "file_extension": ".py",
   "mimetype": "text/x-python",
   "name": "python",
   "nbconvert_exporter": "python",
   "pygments_lexer": "ipython3",
   "version": "3.8.8"
  }
 },
 "nbformat": 4,
 "nbformat_minor": 5
}
