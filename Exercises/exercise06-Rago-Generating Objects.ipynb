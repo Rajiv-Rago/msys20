{
 "cells": [
  {
   "cell_type": "markdown",
   "id": "fa8b9de7",
   "metadata": {},
   "source": [
    "Rajiv D. Rago\n",
    "\n",
    "204178\n",
    "\n",
    "October 20, 2021"
   ]
  },
  {
   "cell_type": "code",
   "execution_count": 22,
   "id": "be85e25e",
   "metadata": {},
   "outputs": [
    {
     "name": "stdout",
     "output_type": "stream",
     "text": [
      "900\n",
      "2900\n",
      "Insufficient funds\n",
      "2900\n"
     ]
    }
   ],
   "source": [
    "#Problem A: Bank Accounts, improved\n",
    "\n",
    "class BankAccount:\n",
    "    def __init__(self):\n",
    "        self.__balance = 0\n",
    "        \n",
    "        \n",
    "    def deposit(self, amount):\n",
    "        self.__balance += amount\n",
    "        \n",
    "    def withdraw(self, amount):\n",
    "        if amount <= self.__balance:\n",
    "            self.__balance -= amount\n",
    "        else:\n",
    "            print(\"Insufficient funds\")\n",
    "    \n",
    "    def getBalance(self):\n",
    "        return self.__balance\n",
    "        \n",
    "    def setBalance(self, amount):\n",
    "        self.__balance = amount\n",
    "\n",
    "\n",
    "account = BankAccount()\n",
    "\n",
    "account.deposit(1000)\n",
    "account.withdraw(100)\n",
    "print(account.getBalance())\n",
    "account.deposit(2000)\n",
    "print(account.getBalance())\n",
    "account.withdraw(4000)\n",
    "print(account.getBalance())\n",
    "        "
   ]
  },
  {
   "cell_type": "code",
   "execution_count": 21,
   "id": "c2612d5b",
   "metadata": {},
   "outputs": [
    {
     "name": "stdout",
     "output_type": "stream",
     "text": [
      "SODA TRADE SUMMARY\n",
      "Crispin has sold 39 cans. He has 807.0 and 9 cans left.\n",
      "Basilio has sold 44 cans. He has 903.5 and 4 cans left.\n",
      "END OF REPORT\n"
     ]
    }
   ],
   "source": [
    "#Problem B: Soda Trader\n",
    "\n",
    "class SodaTrader:\n",
    "    def __init__(self):\n",
    "        self.__funds = 500\n",
    "        self.__totalCans = 0\n",
    "        self.__soldCans = 0\n",
    "    \n",
    "    def buyOneCase(self, pricePerCase):\n",
    "        self.__funds -= pricePerCase\n",
    "        self.__totalCans += 24\n",
    "        \n",
    "    def sellSoda(self, numCans, pricePerCan):\n",
    "        self.__funds += numCans * pricePerCan\n",
    "        self.__totalCans -= numCans\n",
    "        self.__soldCans += numCans\n",
    "        \n",
    "    def getSoldCans(self):\n",
    "        return self.__soldCans\n",
    "        \n",
    "    def getCansOnHand(self):\n",
    "        return self.__totalCans\n",
    "        \n",
    "    def getCashOnHand(self):\n",
    "        return self.__funds\n",
    "        \n",
    "\n",
    "crispin = SodaTrader()\n",
    "basilio = SodaTrader()\n",
    "\n",
    "crispin.buyOneCase(200.00)\n",
    "basilio.buyOneCase(250.00)\n",
    "\n",
    "crispin.sellSoda(5, 20.00)\n",
    "basilio.sellSoda(10, 22.50)\n",
    "\n",
    "crispin.sellSoda(10, 15.50)\n",
    "basilio.sellSoda(10, 12.25)\n",
    "\n",
    "crispin.buyOneCase(150.00)\n",
    "basilio.buyOneCase(300.00)\n",
    "\n",
    "crispin.sellSoda(24, 16.75)\n",
    "basilio.sellSoda(24, 25.25)\n",
    "\n",
    "print(\"SODA TRADE SUMMARY\")\n",
    "print(\"Crispin has sold {0} cans. He has {1} and {2} cans left.\".format(crispin.getSoldCans(), crispin.getCashOnHand(), crispin.getCansOnHand()))\n",
    "print(\"Basilio has sold {0} cans. He has {1} and {2} cans left.\".format(basilio.getSoldCans(), basilio.getCashOnHand(), basilio.getCansOnHand()))\n",
    "print(\"END OF REPORT\")"
   ]
  }
 ],
 "metadata": {
  "kernelspec": {
   "display_name": "Python 3",
   "language": "python",
   "name": "python3"
  },
  "language_info": {
   "codemirror_mode": {
    "name": "ipython",
    "version": 3
   },
   "file_extension": ".py",
   "mimetype": "text/x-python",
   "name": "python",
   "nbconvert_exporter": "python",
   "pygments_lexer": "ipython3",
   "version": "3.8.8"
  }
 },
 "nbformat": 4,
 "nbformat_minor": 5
}
