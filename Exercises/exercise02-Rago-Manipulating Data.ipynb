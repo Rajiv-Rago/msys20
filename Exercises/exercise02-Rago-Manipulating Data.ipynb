{
 "cells": [
  {
   "cell_type": "markdown",
   "id": "3e5798ea",
   "metadata": {},
   "source": [
    "Rajiv D. Rago\n",
    "\n",
    "204178\n",
    "\n",
    "September 9, 2021"
   ]
  },
  {
   "cell_type": "code",
   "execution_count": 2,
   "id": "82b48b64",
   "metadata": {},
   "outputs": [
    {
     "name": "stdout",
     "output_type": "stream",
     "text": [
      "4-digit integer: sdljf\n",
      "Please input a 4-digit integer.\n",
      "4-digit integer: 123456\n",
      "Please make sure that there are only four digits.\n",
      "4-digit integer: 1234\n",
      "10\n"
     ]
    }
   ],
   "source": [
    "# Problem A: Sum of the Digits of an Integer\n",
    "\n",
    "ans = 0\n",
    "\n",
    "# Source: <obtained from: https://www.includehelp.com/python/asking-the-user-for-integer-input-in-python-limit-the-user-to-input-only-integer-value.aspx>\n",
    "# Date: <September 10, 2021>\n",
    "# Name of Author/Programmer: W3Schools\n",
    "while True:\n",
    "    try:\n",
    "        digits = input(\"4-digit integer: \")\n",
    "        ans = int(digits[0]) + int(digits[1]) + int(digits[2]) + int(digits[3])\n",
    "        \n",
    "        # Source: obtained from: <https://www.w3schools.com/python/python_conditions.asp>\n",
    "        # Date: <September 10, 2021>\n",
    "        # Name of Author/Programmer: W3Schools\n",
    "        if len(digits) == 4:\n",
    "            print(ans)\n",
    "            break\n",
    "        else:\n",
    "            print(\"Please make sure that there are only four digits.\")\n",
    "            continue\n",
    "        \n",
    "    except:\n",
    "        print(\"Please input a 4-digit integer.\")      "
   ]
  },
  {
   "cell_type": "code",
   "execution_count": 7,
   "id": "3fe07ded",
   "metadata": {},
   "outputs": [
    {
     "name": "stdout",
     "output_type": "stream",
     "text": [
      "Number of day old bread to order: 3e\n",
      "Please input an integer\n",
      "\n",
      "Number of day old bread to order: s\n",
      "Please input an integer\n",
      "\n",
      "Number of day old bread to order: 4\n",
      "Regular price: PHP 99.00\n",
      "Discounted price: PHP 59.40\n",
      "Total discounted price: PHP 237.60\n"
     ]
    }
   ],
   "source": [
    "#Problem B: Day Old Bread\n",
    "\n",
    "# Source: obtained from: <https://www.w3schools.com/python/python_while_loops.asp>\n",
    "# Date: <September 10, 2021>\n",
    "# Name of Author/Programmer: W3Schools\n",
    "while True: \n",
    "    \n",
    "    # Source: obtained from: <https://www.w3schools.com/python/python_try_except.asp>\n",
    "    # Date: <September 10, 2021>\n",
    "    # Name of Author/Programmer: W3Schools\n",
    "    try:\n",
    "        bread_amount = int(input(\"Number of day old bread to order: \"))\n",
    "        bread_price = 99.00\n",
    "        discounted_price = 0.6 * bread_price\n",
    "\n",
    "        print(\"Regular price: PHP {:.2F}\".format(bread_price))\n",
    "        print(\"Discounted price: PHP {:.2f}\".format(discounted_price))\n",
    "        print(\"Total discounted price: PHP {:.2f}\".format(discounted_price * bread_amount))\n",
    "        break\n",
    "        \n",
    "    except:\n",
    "        print(\"Please input an integer\\n\")"
   ]
  },
  {
   "cell_type": "code",
   "execution_count": 14,
   "id": "40875980",
   "metadata": {},
   "outputs": [
    {
     "name": "stdout",
     "output_type": "stream",
     "text": [
      "Entrer string: RaDAr\n",
      "Is it a palindrome? True\n"
     ]
    }
   ],
   "source": [
    "# Problem C: String palindromes\n",
    "\n",
    "while True:\n",
    "    word = input(\"Entrer string: \").lower().replace(\" \", \"\")\n",
    "    \n",
    "    # Source: obtained from: <https://www.w3schools.com/python/ref_string_isalnum.asp>\n",
    "    # Date: <September 10, 2021>\n",
    "    # Name of Author/Programmer: W3Schools\n",
    "    if word.isalnum():\n",
    "        letters = list(word)\n",
    "        letters.reverse()\n",
    "\n",
    "        word_rev = \"\"\n",
    "        \n",
    "        # Source: obtained from: <https://www.w3schools.com/python/python_for_loops.asp>\n",
    "        # Date: <September 10, 2021>\n",
    "        # Name of Author/Programmer: W3Schools\n",
    "        for letter in letters:\n",
    "            word_rev = word_rev + letter\n",
    "\n",
    "        print(\"Is it a palindrome? \" + str( word == word_rev))\n",
    "        break\n",
    "        \n",
    "    else: \n",
    "        print(\"Only alphanumberic characters are allowed :)\\n\")\n",
    "        continue"
   ]
  }
 ],
 "metadata": {
  "kernelspec": {
   "display_name": "Python 3",
   "language": "python",
   "name": "python3"
  },
  "language_info": {
   "codemirror_mode": {
    "name": "ipython",
    "version": 3
   },
   "file_extension": ".py",
   "mimetype": "text/x-python",
   "name": "python",
   "nbconvert_exporter": "python",
   "pygments_lexer": "ipython3",
   "version": "3.8.8"
  }
 },
 "nbformat": 4,
 "nbformat_minor": 5
}
