{
 "cells": [
  {
   "cell_type": "markdown",
   "id": "fcc6d402",
   "metadata": {},
   "source": [
    "Rajiv D. Rago\n",
    "\n",
    "204178\n",
    "\n",
    "October 1, 2021"
   ]
  },
  {
   "cell_type": "code",
   "execution_count": 24,
   "id": "82df71ff",
   "metadata": {},
   "outputs": [
    {
     "name": "stdout",
     "output_type": "stream",
     "text": [
      "    0    1    2    3    4    5    6    7    8    9   10\n",
      "    1    1    2    3    4    5    6    7    8    9   10\n",
      "    2    2    4    6    8   10   12   14   16   18   20\n",
      "    3    3    6    9   12   15   18   21   24   27   30\n",
      "    4    4    8   12   16   20   24   28   32   36   40\n",
      "    5    5   10   15   20   25   30   35   40   45   50\n",
      "    6    6   12   18   24   30   36   42   48   54   60\n",
      "    7    7   14   21   28   35   42   49   56   63   70\n",
      "    8    8   16   24   32   40   48   56   64   72   80\n",
      "    9    9   18   27   36   45   54   63   72   81   90\n",
      "   10   10   20   30   40   50   60   70   80   90  100\n"
     ]
    }
   ],
   "source": [
    "# Problem A: Multiplication Table\n",
    "\n",
    "for x in range(0,11):\n",
    "    output = \"{: 5}\".format(x)\n",
    "    \n",
    "    for y in range(1,11):\n",
    "        output += \"{: 5}\".format(x * y or y)\n",
    "    print(output)"
   ]
  },
  {
   "cell_type": "code",
   "execution_count": 29,
   "id": "3d695552",
   "metadata": {},
   "outputs": [],
   "source": [
    "# Problem B: Formatting a List\n",
    "\n",
    "def formatList(strings):\n",
    "    output = \"\"\n",
    "    for string in strings:\n",
    "        \n",
    "        if string == strings[-1]:\n",
    "            output += \"and \"\n",
    "        output += string + \", \"\n",
    "    \n",
    "    return output"
   ]
  },
  {
   "cell_type": "code",
   "execution_count": 28,
   "id": "ff54f008",
   "metadata": {},
   "outputs": [],
   "source": [
    "# Problem C: Within range, revisited\n",
    "\n",
    "def countRange(l, minimum, maximum):\n",
    "    return len([1 for x in l if x>= minimum and x < maximum])"
   ]
  },
  {
   "cell_type": "code",
   "execution_count": 31,
   "id": "56c95863",
   "metadata": {},
   "outputs": [],
   "source": [
    "# Problem D: Admission Price, revisited\n",
    "\n",
    "def calculateCost(ages):\n",
    "    children = len([1 for x in ages if x >= 3 and x < 12])\n",
    "    seniors = len([1 for x in ages if x >= 65])\n",
    "    regulars = len([1 for x in ages if x >= 12 and x < 65])\n",
    "    \n",
    "    print(\"Total cost: PHP {:.2f}\".format(children * 700 + seniors * 900 + regulars * 1150))"
   ]
  },
  {
   "cell_type": "code",
   "execution_count": 30,
   "id": "aa1ca904",
   "metadata": {},
   "outputs": [
    {
     "name": "stdout",
     "output_type": "stream",
     "text": [
      "Height: -8\n"
     ]
    }
   ],
   "source": [
    "# Optional problem: Pyramid Scheme, revisited\n",
    "\n",
    "def printLine(line):\n",
    "    # Source: obtained from: <https://www.w3schools.com/python/ref_func_print.asp>\n",
    "    # Date: <October 1, 2021>\n",
    "    # Name of Author/Programmer: W3Schools\n",
    "    [print(num, end=\"\") for num in range(1, line+1)]\n",
    "    print(\"\")\n",
    "\n",
    "\n",
    "height = int(input(\"Height: \"))\n",
    "\n",
    "while height >= 0:\n",
    "    [printLine(line) for line in range(1, height+1)]\n",
    "    height = int(input(\"Height: \"))\n"
   ]
  }
 ],
 "metadata": {
  "kernelspec": {
   "display_name": "Python 3",
   "language": "python",
   "name": "python3"
  },
  "language_info": {
   "codemirror_mode": {
    "name": "ipython",
    "version": 3
   },
   "file_extension": ".py",
   "mimetype": "text/x-python",
   "name": "python",
   "nbconvert_exporter": "python",
   "pygments_lexer": "ipython3",
   "version": "3.8.8"
  }
 },
 "nbformat": 4,
 "nbformat_minor": 5
}
